{
 "cells": [
  {
   "cell_type": "markdown",
   "metadata": {},
   "source": [
    "## SOFT COSINE SIMILARITY FOR DOCUMENT MATCHING\n",
    "***A soft cosine or (\"soft\" similarity) between two vectors considers similarities between pairs of features. The traditional cosine similarity considers the vector space model (VSM) features as independent or completely different, while the soft cosine measure proposes considering the similarity of features in VSM, which help generalize the concept of cosine (and soft cosine) as well as the idea of (soft) similarity.*** \n",
    "\n",
    "~ Wikipedia (https://en.wikipedia.org/wiki/Cosine_similarity)"
   ]
  },
  {
   "cell_type": "code",
   "execution_count": 1,
   "metadata": {},
   "outputs": [],
   "source": [
    "import numpy as np\n",
    "import pandas as pd"
   ]
  },
  {
   "cell_type": "code",
   "execution_count": 2,
   "metadata": {},
   "outputs": [],
   "source": [
    "from gensim.corpora import Dictionary\n",
    "from gensim.models import Word2Vec, WordEmbeddingSimilarityIndex\n",
    "from gensim.similarities import SoftCosineSimilarity, SparseTermSimilarityMatrix\n",
    "from nltk import word_tokenize\n",
    "from nltk.corpus import stopwords\n",
    "stop_words = stopwords.words('english')"
   ]
  },
  {
   "cell_type": "markdown",
   "metadata": {},
   "source": [
    "***Read-in data***\n",
    "\n",
    "The Dataset utilized in this notebook is derived from the African Conflicts dataset found on Kaggle:\n",
    "\n",
    "https://www.kaggle.com/jboysen/african-conflicts"
   ]
  },
  {
   "cell_type": "code",
   "execution_count": 7,
   "metadata": {},
   "outputs": [
    {
     "name": "stderr",
     "output_type": "stream",
     "text": [
      "<ipython-input-7-cebd3efc9525>:6: SettingWithCopyWarning: \n",
      "A value is trying to be set on a copy of a slice from a DataFrame.\n",
      "Try using .loc[row_indexer,col_indexer] = value instead\n",
      "\n",
      "See the caveats in the documentation: https://pandas.pydata.org/pandas-docs/stable/user_guide/indexing.html#returning-a-view-versus-a-copy\n",
      "  df_notes['index'] = df_notes.index\n"
     ]
    },
    {
     "data": {
      "text/html": [
       "<div>\n",
       "<style scoped>\n",
       "    .dataframe tbody tr th:only-of-type {\n",
       "        vertical-align: middle;\n",
       "    }\n",
       "\n",
       "    .dataframe tbody tr th {\n",
       "        vertical-align: top;\n",
       "    }\n",
       "\n",
       "    .dataframe thead th {\n",
       "        text-align: right;\n",
       "    }\n",
       "</style>\n",
       "<table border=\"1\" class=\"dataframe\">\n",
       "  <thead>\n",
       "    <tr style=\"text-align: right;\">\n",
       "      <th></th>\n",
       "      <th>NOTES</th>\n",
       "      <th>index</th>\n",
       "    </tr>\n",
       "  </thead>\n",
       "  <tbody>\n",
       "    <tr>\n",
       "      <th>0</th>\n",
       "      <td>A Berber student was shot while in police cust...</td>\n",
       "      <td>0</td>\n",
       "    </tr>\n",
       "    <tr>\n",
       "      <th>1</th>\n",
       "      <td>Riots were reported in numerous villages in Ka...</td>\n",
       "      <td>1</td>\n",
       "    </tr>\n",
       "    <tr>\n",
       "      <th>2</th>\n",
       "      <td>Students protested in the Amizour area. At lea...</td>\n",
       "      <td>2</td>\n",
       "    </tr>\n",
       "    <tr>\n",
       "      <th>3</th>\n",
       "      <td>Rioters threw molotov cocktails, rocks and bur...</td>\n",
       "      <td>3</td>\n",
       "    </tr>\n",
       "    <tr>\n",
       "      <th>4</th>\n",
       "      <td>Rioters threw molotov cocktails, rocks and bur...</td>\n",
       "      <td>4</td>\n",
       "    </tr>\n",
       "  </tbody>\n",
       "</table>\n",
       "</div>"
      ],
      "text/plain": [
       "                                               NOTES  index\n",
       "0  A Berber student was shot while in police cust...      0\n",
       "1  Riots were reported in numerous villages in Ka...      1\n",
       "2  Students protested in the Amizour area. At lea...      2\n",
       "3  Rioters threw molotov cocktails, rocks and bur...      3\n",
       "4  Rioters threw molotov cocktails, rocks and bur...      4"
      ]
     },
     "execution_count": 7,
     "metadata": {},
     "output_type": "execute_result"
    }
   ],
   "source": [
    "#df = pd.read_csv(r'data/african_conflicts.csv', nrows=4000, encoding=\"ANSI\")\n",
    "df = pd.read_csv(r'C:\\Users\\joneszc\\Documents\\Python_Scripts\\Spellcheck\\data\\african_conflicts.csv', nrows=2000, encoding=\"ANSI\")\n",
    "\n",
    "#create dataframe from df that contains only the 'NOTES' column for text analysis\n",
    "df_notes = df[['NOTES']]\n",
    "df_notes['index'] = df_notes.index\n",
    "df_notes.head()\n",
    "#print(df_notes.head(), df_notes.info())"
   ]
  },
  {
   "cell_type": "code",
   "execution_count": 8,
   "metadata": {},
   "outputs": [
    {
     "name": "stdout",
     "output_type": "stream",
     "text": [
      "<class 'pandas.core.frame.DataFrame'>\n",
      "Int64Index: 1000 entries, 353 to 91\n",
      "Data columns (total 2 columns):\n",
      " #   Column  Non-Null Count  Dtype \n",
      "---  ------  --------------  ----- \n",
      " 0   NOTES   1000 non-null   object\n",
      " 1   index   1000 non-null   int64 \n",
      "dtypes: int64(1), object(1)\n",
      "memory usage: 23.4+ KB\n"
     ]
    }
   ],
   "source": [
    "# here we get 50 % row from the df put into another dataframe df_test \n",
    "df_test = df_notes.sample(frac =.5) \n",
    "\n",
    "df_test.info()"
   ]
  },
  {
   "cell_type": "code",
   "execution_count": 9,
   "metadata": {},
   "outputs": [],
   "source": [
    "#Df = df_test.dropna() # drop all the rows with NaN values using df.dropna() AND keep original index (to reset index use: df.reset_index(drop=True))\n",
    "Df = df_notes.dropna()\n",
    "#Df.head()"
   ]
  },
  {
   "cell_type": "markdown",
   "metadata": {},
   "source": [
    "***Establish word embedding model; rather than creating our own with Gensim's word2vec, we can download a pretrained model:***"
   ]
  },
  {
   "cell_type": "code",
   "execution_count": 10,
   "metadata": {},
   "outputs": [],
   "source": [
    "#To get the word vectors, we need a word embedding model so we download the FastText model using gensim’s downloader api.\n",
    "import gensim.downloader as api"
   ]
  },
  {
   "cell_type": "code",
   "execution_count": 11,
   "metadata": {},
   "outputs": [],
   "source": [
    "# Download the FastText model\n",
    "# https://radimrehurek.com/gensim/auto_examples/howtos/run_downloader_api.html\n",
    "w2v_model = api.load('fasttext-wiki-news-subwords-300')"
   ]
  },
  {
   "cell_type": "markdown",
   "metadata": {},
   "source": [
    "***Use Gensim's WordEmbeddingSimilarityIndex() to create a term similarity index for our word embedding***"
   ]
  },
  {
   "cell_type": "code",
   "execution_count": 12,
   "metadata": {},
   "outputs": [],
   "source": [
    "# Prepare the similarity index\n",
    "\n",
    "similarity_index = WordEmbeddingSimilarityIndex(w2v_model) #Here the w2v_model is the fasttext_model300"
   ]
  },
  {
   "cell_type": "markdown",
   "metadata": {},
   "source": [
    "***Prepare the text data for numerical analysis***"
   ]
  },
  {
   "cell_type": "code",
   "execution_count": 13,
   "metadata": {},
   "outputs": [
    {
     "name": "stdout",
     "output_type": "stream",
     "text": [
      "[['berber', 'student', 'shot', 'police', 'custody', 'police', 'station', 'beni', 'later', 'died'], ['riots', 'reported', 'numerous', 'villages', 'resulting', 'dozens', 'wounded', 'clashes', 'protesters', 'police', 'significant', 'material'], ['students', 'protested', 'amizour', 'least', 'later', 'arrested', 'allegedly', 'insulting'], ['rioters', 'threw', 'molotov', 'rocks', 'burning', 'tires', 'gendarmerie', 'stations', 'beni'], ['rioters', 'threw', 'molotov', 'rocks', 'burning', 'tires', 'gendarmerie', 'stations', 'beni'], ['rioters', 'threw', 'molotov', 'rocks', 'burning', 'tires', 'gendarmerie', 'stations', 'beni'], ['protesters', 'attacked', 'gendarmerie', 'detachment', 'rocks', 'set', 'fire', 'two', 'gendarmerie', 'vehicle', 'well', 'registry', 'office', 'court']] \n",
      "\n",
      "number of documents:  2000\n"
     ]
    }
   ],
   "source": [
    "#Prepare and Clean the text documents in the 'NOTES' column\n",
    "documents = Df['NOTES'].tolist() # Converge text data from 'NOTES' column to a list \n",
    "documents_token = [x.lower().split() for x in documents] # apply lowercase and tokenize\n",
    "documents_token = [[w for w in doc if not w in stop_words] for doc in documents_token] # Remove stopwords\n",
    "documents_token = [[w for w in doc if w.isalpha()] for doc in documents_token] # Remove numbers and special characters\n",
    "\n",
    "print(documents_token[0:7],\"\\n\")\n",
    "print(\"number of documents: \", len(documents_token))"
   ]
  },
  {
   "cell_type": "markdown",
   "metadata": {},
   "source": [
    "***Use Gensim to create a Dictionary from our documents, then use SparseTermSimilarityMatrix() to create a similarity matrix***"
   ]
  },
  {
   "cell_type": "code",
   "execution_count": 14,
   "metadata": {},
   "outputs": [],
   "source": [
    "#Using the document corpus we construct a dictionary,  and a term similarity matrix.\n",
    "dictionary = Dictionary(documents_token)\n",
    "bow_docs = [dictionary.doc2bow(document) for document in documents_token]\n",
    "similarity_matrix = SparseTermSimilarityMatrix(similarity_index, dictionary) # Use termsim_index for custom model"
   ]
  },
  {
   "cell_type": "markdown",
   "metadata": {},
   "source": [
    "***Create and save the index matrix of Soft Cosine Similarity scores against our documents***"
   ]
  },
  {
   "cell_type": "code",
   "execution_count": 15,
   "metadata": {},
   "outputs": [],
   "source": [
    "#compute Soft Cosine Similarity against documents and store the index matrix \n",
    "doc_similarity_index = SoftCosineSimilarity(bow_docs, similarity_matrix, num_best=10)\n",
    "#doc_similarity_index.save('models/gensim_docims_index') #Optional, can save to disk for later usage"
   ]
  },
  {
   "cell_type": "markdown",
   "metadata": {},
   "source": [
    "***Time to query the documents with new information and hopefully find a match***"
   ]
  },
  {
   "cell_type": "code",
   "execution_count": 23,
   "metadata": {},
   "outputs": [
    {
     "name": "stdout",
     "output_type": "stream",
     "text": [
      "Query Entered: Rweru Hill Military position\n",
      "\n",
      "\n",
      "Input key terms : rweru hill military position\n",
      "\n",
      "\n",
      "\n",
      "0.914 : A soldier from the Rweru Hill Military position was tied up by Imbonerakure and beaten severely. \n",
      "0.683 : 2 Congolese soldiers were killed in an attack by FRPI militiamen on their position in Kaswara village in Ituri. There was also an unconfirmed report of the death of a child of one of the soldiers. A military spokesman said the attack was actually an ambush of a patrol.\n",
      "0.535 : Dozens of youth set up road blocks on roads leading to voting centres in Raffour and threw rocks at offices of the local military police to prevent people from voting in the national legislative elections. The action started the day before the elections, and continued on election day. They clashed with members of the military police on several occasions during the riot. At least 3 were arrested.\n",
      "0.535 : Dozens of youth set up road blocks on roads leading to voting centres in Raffour and threw rocks at offices of the local military police to prevent people from voting in the national legislative elections. The action started the day before the elections, and continued on election day. They clashed with members of the military police on several occasions during the riot. At least 3 were arrested.\n",
      "0.529 : FLEC-FAC attacked the Angolan military in the village of Munenga in Cabinda. In retaliation the military arrested many people. \n",
      "0.528 : At least 3 Boko Haram militants were killed during an attack carried out on Cameroonian navy positions in Soueram area, near Ngouma. At least 2 Cameroonian military personnel were injured and taken to Kousseri for treatment. Other sources said as many as 9 were killed during the attack, mostly Boko Haram fighters.\n",
      "0.500 : Residents of 3 villages in the Ntondo group protested over the existence of military barriers in their area requiring them to pay when they cross them.\n",
      "0.500 : A man on Masha hill was beaten until he lost consciousness by 2 Imbonerakure. One of them has been arrested.\n",
      "0.500 : Police and suspected BDK members clashed in Kimpese. At least 5 people was killed and others seriously injured, as well as damage done to houses and a police station, while some stores were reported looted. The BDK members had allegedly attacked the Deputy-Minister of Infrastructe's residence over statements he made that the BDK members deemed insulting to their group's spiritual leader. Military forces were later deployed to help deal with the unrest.\n",
      "0.500 : Clashes between Anti-Balaka and suspected UPC fighters in the Bakouma area were reported to have moved into the city. A military source said 20 people, mainly civilians, had been killed during the clashes (10 coded in previous event).\n"
     ]
    },
    {
     "name": "stderr",
     "output_type": "stream",
     "text": [
      "C:\\Users\\joneszc\\Anaconda3\\lib\\site-packages\\gensim\\similarities\\termsim.py:358: RuntimeWarning: divide by zero encountered in true_divide\n",
      "  Y = np.multiply(Y, 1 / np.sqrt(Y_norm))\n",
      "C:\\Users\\joneszc\\Anaconda3\\lib\\site-packages\\gensim\\similarities\\termsim.py:358: RuntimeWarning: invalid value encountered in multiply\n",
      "  Y = np.multiply(Y, 1 / np.sqrt(Y_norm))\n"
     ]
    }
   ],
   "source": [
    "#To use the docsim index, we search a query string against the index to find the most similar documents. \n",
    "\n",
    "query = input(\"Query Entered: \")\n",
    "query = query.lower().split() # apply lowercase and tokenize\n",
    "query = [w for w in query if not w in stop_words] # Remove stopwords\n",
    "query = [w for w in query if w.isalpha()] # Remove numbers and special characters\n",
    "\n",
    "print(\"\\n\")\n",
    "\n",
    "similarities = doc_similarity_index[dictionary.doc2bow(query)]\n",
    "results = [documents[i] for i in [a[0] for a in similarities]]\n",
    "score_list = [a[1] for a in similarities]\n",
    "\n",
    "\n",
    "print ('Input key terms : {}\\n'.format(' '.join(query)))\n",
    "print(\"\\n\")\n",
    "#results = [' '.join(each) for each in result_list]\n",
    "for score, result in zip(score_list, results):\n",
    "    print('{:.3f} : {}'.format(score, result))"
   ]
  },
  {
   "cell_type": "markdown",
   "metadata": {},
   "source": [
    "LRA leaving peace talks in Juba and regrouping in Garamba.\n",
    "\n",
    "LRA invades village, abducts civilians\n",
    "\n",
    "Municipal workers protest late payment of wages"
   ]
  },
  {
   "cell_type": "code",
   "execution_count": null,
   "metadata": {},
   "outputs": [],
   "source": []
  }
 ],
 "metadata": {
  "kernelspec": {
   "display_name": "Python 3",
   "language": "python",
   "name": "python3"
  },
  "language_info": {
   "codemirror_mode": {
    "name": "ipython",
    "version": 3
   },
   "file_extension": ".py",
   "mimetype": "text/x-python",
   "name": "python",
   "nbconvert_exporter": "python",
   "pygments_lexer": "ipython3",
   "version": "3.8.3"
  }
 },
 "nbformat": 4,
 "nbformat_minor": 4
}
